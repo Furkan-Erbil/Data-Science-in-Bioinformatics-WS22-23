{
 "cells": [
  {
   "cell_type": "markdown",
   "id": "4506ed61",
   "metadata": {},
   "source": [
    "# Exercises: Solutions\n",
    "### by Erbil, Furkan"
   ]
  },
  {
   "cell_type": "markdown",
   "id": "227551f5",
   "metadata": {},
   "source": [
    "## Day 1"
   ]
  },
  {
   "cell_type": "markdown",
   "id": "daec4f61",
   "metadata": {},
   "source": [
    "## 1)"
   ]
  },
  {
   "cell_type": "raw",
   "id": "9f6b4e05",
   "metadata": {},
   "source": [
    "mkdir Master-Project-DS Master-Project-DS/config Master-Project-DS/data Master-Project-DS/data/day1 Master-Project-DS/resources Master-Project-DS/workflow Master-Project-DS/workflow/envs Master-Project-DS/workflow/rules Master-Project-DS/workflow/scripts"
   ]
  },
  {
   "cell_type": "markdown",
   "id": "36649301",
   "metadata": {},
   "source": [
    "## 2)"
   ]
  },
  {
   "cell_type": "code",
   "execution_count": 7,
   "id": "69e3f4e4",
   "metadata": {},
   "outputs": [
    {
     "name": "stdout",
     "output_type": "stream",
     "text": [
      "ACTGTACGTAGCATGAC\n",
      "Your DNA Sequence is fantastic.\n",
      "It is a subsequence of seq1.\n",
      "Sadly, not a subsequence.\n"
     ]
    }
   ],
   "source": [
    "#Turn all letters in the sequence into uppercase\n",
    "def upperCaseMachine(seqX):\n",
    "    if seqX.isupper():\n",
    "        return seqX\n",
    "    else:\n",
    "        return seqX.upper()\n",
    "    \n",
    "\n",
    "#Check if only allowed letter regarding DNA are used\n",
    "def CheckDNA(seqX):\n",
    "    if all(l in DNA_Letters for l in seqX):\n",
    "        print('Your DNA Sequence is fantastic.')\n",
    "    else:\n",
    "        print('Please, modify your DNA.')\n",
    "        \n",
    "\n",
    "#Compare other sequences to seq1 if they are contained\n",
    "def compareSequence(seqX):\n",
    "    try:\n",
    "        seq1.index(seqX)\n",
    "    except ValueError:\n",
    "        print('Sadly, not a subsequence.')\n",
    "    else:\n",
    "        print('It is a subsequence of seq1.')\n",
    "\n",
    "        \n",
    "#Test\n",
    "DNA_Letters = \"ACTG\"       \n",
    "seq1 = \"actgtacgtagcatgac\"\n",
    "seq2 = \"CAT\"\n",
    "seq3 = \"CATCAT\"\n",
    "\n",
    "seq1 = upperCaseMachine(seq1)\n",
    "print(seq1)\n",
    "\n",
    "CheckDNA(seq1)\n",
    "\n",
    "compareSequence(seq2)\n",
    "compareSequence(seq3)"
   ]
  },
  {
   "cell_type": "markdown",
   "id": "414b7c84",
   "metadata": {},
   "source": [
    "## 3)"
   ]
  },
  {
   "cell_type": "markdown",
   "id": "cd807b95",
   "metadata": {},
   "source": [
    "### Output sequences"
   ]
  },
  {
   "cell_type": "code",
   "execution_count": 8,
   "id": "d94bdda1",
   "metadata": {},
   "outputs": [
    {
     "name": "stdout",
     "output_type": "stream",
     "text": [
      "('ENSSAST00005000002.1', Seq('ATGGAGAGCCTTGTCCCTGGTTTCAACGAGAAAACACACGTCCAACTCAGTTTG...TAA'))\n",
      "Your sequence pair:  ('ENSSAST00005000002.1', Seq('ATGGAGAGCCTTGTCCCTGGTTTCAACGAGAAAACACACGTCCAACTCAGTTTG...TAA'))\n"
     ]
    }
   ],
   "source": [
    "from Bio import SeqIO\n",
    "\n",
    "file = \"Files Exercise 1/Sars_cov_2.ASM985889v3.cds.all.fa\"\n",
    "seq_pairs = []\n",
    "\n",
    "#Create tuples for each id and its sequence\n",
    "for seq_record in SeqIO.parse(file, \"fasta\"):\n",
    "    seq_pairs.append((seq_record.id, seq_record.seq))\n",
    "\n",
    "\n",
    "#Put an id of a sequence to show its sequence (within a (id, sequence) pair)\n",
    "def findSequenceWithID (seq_id):\n",
    "    for seq_pair in seq_pairs:\n",
    "        if seq_id in seq_pair[0]:\n",
    "            print(\"Your sequence pair: \", seq_pair)\n",
    "            \n",
    "#Test\n",
    "print(seq_pairs[0])\n",
    "id = 'ENSSAST00005000002.1'\n",
    "findSequenceWithID(id)\n"
   ]
  },
  {
   "cell_type": "markdown",
   "id": "a4e25d78",
   "metadata": {},
   "source": [
    "### Features"
   ]
  },
  {
   "cell_type": "raw",
   "id": "8fa5a4b1",
   "metadata": {},
   "source": [
    "Features of above sequences:\n",
    " - start with ATG (MET)\n",
    " - end with TAA or TAG\n",
    " - only contain following letters: \"A\", \"T\", \"G\" or \"C\""
   ]
  },
  {
   "cell_type": "markdown",
   "id": "b7bf0ab5",
   "metadata": {},
   "source": [
    "## Day 2"
   ]
  },
  {
   "cell_type": "markdown",
   "id": "1df9fcac",
   "metadata": {},
   "source": [
    "## 1)"
   ]
  },
  {
   "cell_type": "markdown",
   "id": "dfe80076",
   "metadata": {},
   "source": [
    "### Restriction Enzymes "
   ]
  },
  {
   "cell_type": "raw",
   "id": "8fe01768",
   "metadata": {},
   "source": [
    "- A Restriction Enzyme recognizes a sequence of nucleotide bases which are usually 4-8 base pairs in length (called Recognition Sequence)\n",
    "- The Recognition Sequence is cleaved by this Enzyme \n",
    "- The result is a 'sequence' with sticky or blunt ends\n"
   ]
  },
  {
   "cell_type": "markdown",
   "id": "7f4d0e04",
   "metadata": {},
   "source": [
    "### Initial Setup\n"
   ]
  },
  {
   "cell_type": "code",
   "execution_count": 9,
   "id": "56f0751c",
   "metadata": {},
   "outputs": [
    {
     "name": "stdout",
     "output_type": "stream",
     "text": [
      "Restriction_Enzyme_Aaal|From_5'_to_3'_cuts_after_first_appearing_Cytosin_(\"C\")\n",
      "Seq('CGGCCG')\n",
      "6\n",
      "Restriction_Enzyme_Blfl_(Bacillus_licheniformis)|From_5'_to_3'_cuts_after_first_appearing_Thymin\n",
      "Seq('TCCGGA')\n",
      "6\n",
      "Restriction_Enzyme_Dmal_(Deleya_marina)|From_5'_to_3'_cuts_after_triplet_\"CAG\"\n",
      "Seq('CAGCTG')\n",
      "6\n",
      "Restriction_Enzyme_Falll_(Flavobacterium_aquatile_Ob10)|From_5'_to_3'_cuts_after_first_appearing_pair_\"CG\"\n",
      "Seq('CGCG')\n",
      "4\n",
      "Restriction_Enzyme_Taql_(Thermus_aquaticus)|From_5'_to_3'_cuts_after_first_appearing_Thymin_(\"T\")\n",
      "Seq('TCGA')\n",
      "4\n"
     ]
    }
   ],
   "source": [
    "from Bio import SeqIO\n",
    "\n",
    "#Read and output data of the file containing my chosen Restriction Enzymes. Sequences are stored for later.\n",
    "RE_sequences = []\n",
    "file = \"Files Exercise 2/RestrictionEnzymes.fasta\"\n",
    "for initSeq in SeqIO.parse(file, \"fasta\"):\n",
    "    print(initSeq.id)\n",
    "    print(repr(initSeq.seq))\n",
    "    print(len(initSeq))\n",
    "    RE_sequences.append(str(initSeq.seq))"
   ]
  },
  {
   "cell_type": "markdown",
   "id": "27e07bd3",
   "metadata": {},
   "source": [
    "### Input"
   ]
  },
  {
   "cell_type": "code",
   "execution_count": 10,
   "id": "853eb888",
   "metadata": {},
   "outputs": [
    {
     "name": "stdout",
     "output_type": "stream",
     "text": [
      "CGCG\n"
     ]
    }
   ],
   "source": [
    "#Put in your desired DNA\n",
    " #Hint: Paste in CGGCCGTCCGGACAGCTGCGCGTCGA to test all (spoiler: it worked for me :))\n",
    "DNA_input = str(input())"
   ]
  },
  {
   "cell_type": "markdown",
   "id": "8c0a5896",
   "metadata": {},
   "source": [
    "### DNA Cleavage"
   ]
  },
  {
   "cell_type": "code",
   "execution_count": 11,
   "id": "b4c5454e",
   "metadata": {},
   "outputs": [
    {
     "name": "stdout",
     "output_type": "stream",
     "text": [
      "CG CG\n"
     ]
    }
   ],
   "source": [
    "#cleave DNA at recognized sequence (pos) and cut at the correct position (cut_pos)\n",
    "def cleaveDNA(pos, cut_pos):\n",
    "    DNA_part_1 = DNA_input[: pos+cut_pos]\n",
    "    DNA_part_2 = DNA_input[pos+cut_pos: ]\n",
    "    Cleaved_DNA = DNA_part_1 + \" \" + DNA_part_2\n",
    "    print(Cleaved_DNA)\n",
    "    \n",
    "#Test DNA input for all Restriction Enzymes\n",
    "if DNA_input.find(RE_sequences[0]) != -1 or DNA_input == RE_sequences[0]:\n",
    "        Aaal_pos = DNA_input.find(RE_sequences[0])\n",
    "        cleaveDNA(Aaal_pos, 1)\n",
    "        \n",
    "if DNA_input.find(RE_sequences[1]) != -1 or DNA_input == RE_sequences[1]:\n",
    "        Blfl_pos = DNA_input.find(RE_sequences[1])\n",
    "        cleaveDNA(Blfl_pos, 1)\n",
    "\n",
    "if DNA_input.find(RE_sequences[2]) != -1 or DNA_input == RE_sequences[2]:\n",
    "        Dmal_pos = DNA_input.find(RE_sequences[2])\n",
    "        cleaveDNA(Dmal_pos, 3)\n",
    "        \n",
    "if DNA_input.find(RE_sequences[3]) != -1 or DNA_input == RE_sequences[3]:\n",
    "        Falll_pos = DNA_input.find(RE_sequences[3])\n",
    "        cleaveDNA(Falll_pos, 2)\n",
    "        \n",
    "if DNA_input.find(RE_sequences[4]) != -1 or DNA_input == RE_sequences[4]:\n",
    "        Taql_pos = DNA_input.find(RE_sequences[4])\n",
    "        cleaveDNA(Taql_pos, 1)\n"
   ]
  },
  {
   "cell_type": "markdown",
   "id": "a05f95b7",
   "metadata": {},
   "source": [
    "## 2)"
   ]
  },
  {
   "cell_type": "markdown",
   "id": "d16e183e",
   "metadata": {},
   "source": [
    "### Initial Setup"
   ]
  },
  {
   "cell_type": "code",
   "execution_count": 12,
   "id": "14e115b3",
   "metadata": {},
   "outputs": [
    {
     "name": "stdout",
     "output_type": "stream",
     "text": [
      "Sample_Sequence_from_strands_to_strings_20221017\n",
      "Seq('tttaaaagaaggtcaaatcaatgatatgattttatctcttcttagtaaaggtag...aag')\n",
      "4000\n"
     ]
    }
   ],
   "source": [
    "from Bio import SeqIO\n",
    "\n",
    "#Read and output general data of the file\n",
    "file = \"Files Exercise 2/DSiBI-exercises-Day2_Sample_Sequence.fasta\"\n",
    "for initSeq in SeqIO.parse(file, \"fasta\"):\n",
    "    print(initSeq.id)\n",
    "    print(repr(initSeq.seq))\n",
    "    print(len(initSeq))\n"
   ]
  },
  {
   "cell_type": "markdown",
   "id": "df9a2cb7",
   "metadata": {},
   "source": [
    "### Prepare DNA sequence"
   ]
  },
  {
   "cell_type": "raw",
   "id": "b6bc4ff8",
   "metadata": {},
   "source": [
    "Note: While writing my code I already sorted out ORFs that are within a bigger ORF. \n",
    "If something is wrong with the result, I would be happy to get a comment on what the result should have looked like.\n",
    "Thanks in advance!"
   ]
  },
  {
   "cell_type": "code",
   "execution_count": 15,
   "id": "367dc046",
   "metadata": {
    "scrolled": true
   },
   "outputs": [
    {
     "name": "stdout",
     "output_type": "stream",
     "text": [
      "ORF counts:  2\n",
      "All DNA sequences:\n",
      "ATGATATGA\n",
      "ATGTTCTTGTTAACAACTAAACGAACAATGTTTGTTTTTCTTGTTTTATTGCCACTAGTCTCTAGTCAGTGTGTTAATCTTACAACCAGAACTCAATTACCCCCTGCATACACTAATTCTTTCACACGTGGTGTTTATTACCCTGACAAAGTTTTCAGATCCTCAGTTTTACATTCAACTCAGGACTTGTTCTTACCTTTCTTTTCCAATGTTACTTGGTTCCATGCTATACATGTCTCTGGGACCAATGGTACTAAGAGGTTTGATAACCCTGTCCTACCATTTAATGATGGTGTTTATTTTGCTTCCACTGAGAAGTCTAACATAATAAGAGGCTGGATTTTTGGTACTACTTTAGATTCGAAGACCCAGTCCCTACTTATTGTTAATAACGCTACTAATGTTGTTATTAAAGTCTGTGAATTTCAATTTTGTAATGATCCATTTTTGGGTGTTTATTACCACAAAAACAACAAAAGTTGGATGGAAAGTGAGTTCAGAGTTTATTCTAGTGCGAATAATTGCACTTTTGAATATGTCTCTCAGCCTTTTCTTATGGACCTTGAAGGAAAACAGGGTAATTTCAAAAATCTTAGGGAATTTGTGTTTAAGAATATTGATGGTTATTTTAAAATATATTCTAAGCACACGCCTATTAATTTAGTGCGTGATCTCCCTCAGGGTTTTTCGGCTTTAGAACCATTGGTAGATTTGCCAATAGGTATTAACATCACTAGGTTTCAAACTTTACTTGCTTTACATAGAAGTTATTTGACTCCTGGTGATTCTTCTTCAGGTTGGACAGCTGGTGCTGCAGCTTATTATGTGGGTTATCTTCAACCTAGGACTTTTCTATTAAAATATAATGAAAATGGAACCATTACAGATGCTGTAGACTGTGCACTTGACCCTCTCTCAGAAACAAAGTGTACGTTGAAATCCTTCACTGTAGAAAAAGGAATCTATCAAACTTCTAACTTTAGAGTCCAACCAACAGAATCTATTGTTAGATTTCCTAATATTACAAACTTGTGCCCTTTTGGTGAAGTTTTTAACGCCACCAGATTTGCATCTGTTTATGCTTGGAACAGGAAGAGAATCAGCAACTGTGTTGCTGATTATTCTGTCCTATATAATTCCGCATCATTTTCCACTTTTAAGTGTTATGGAGTGTCTCCTACTAAATTAAATGATCTCTGCTTTACTAATGTCTATGCAGATTCATTTGTAATTAGAGGTGATGAAGTCAGACAAATCGCTCCAGGGCAAACTGGAAAGATTGCTGATTATAATTATAAATTACCAGATGATTTTACAGGCTGCGTTATAGCTTGGAATTCTAACAATCTTGATTCTAAGGTTGGTGGTAATTATAATTACCTGTATAGATTGTTTAGGAAGTCTAATCTCAAACCTTTTGAGAGAGATATTTCAACTGAAATCTATCAGGCCGGTAGCACACCTTGTAATGGTGTTGAAGGTTTTAATTGTTACTTTCCTTTACAATCATATGGTTTCCAACCCACTAATGGTGTTGGTTACCAACCATACAGAGTAGTAGTACTTTCTTTTGAACTTCTACATGCACCAGCAACTGTTTGTGGACCTAAAAAGTCTACTAATTTGGTTAAAAACAAATGTGTCAATTTCAACTTCAATGGTTTAACAGGCACAGGTGTTCTTACTGAGTCTAACAAAAAGTTTCTGCCTTTCCAACAATTTGGCAGAGACATTGCTGACACTACTGATGCTGTCCGTGATCCACAGACACTTGAGATTCTTGACATTACACCATGTTCTTTTGGTGGTGTCAGTGTTATAACACCAGGAACAAATACTTCTAACCAGGTTGCTGTTCTTTATCAGGATGTTAACTGCACAGAAGTCCCTGTTGCTATTCATGCAGATCAACTTACTCCTACTTGGCGTGTTTATTCTACAGGTTCTAATGTTTTTCAAACACGTGCAGGCTGTTTAATAGGGGCTGAACATGTCAACAACTCATATGAGTGTGACATACCCATTGGTGCAGGTATATGCGCTAGTTATCAGACTCAGACTAATTCTCCTCGGCGGGCACGTAGTGTAGCTAGTCAATCCATCATTGCCTACACTATGTCACTTGGTGCAGAAAATTCAGTTGCTTACTCTAATAACTCTATTGCCATACCCACAAATTTTACTATTAGTGTTACCACAGAAATTCTACCAGTGTCTATGACCAAGACATCAGTAGATTGTACAATGTACATTTGTGGTGATTCAACTGAATGCAGCAATCTTTTGTTGCAATATGGCAGTTTTTGTACACAATTAAACCGTGCTTTAACTGGAATAGCTGTTGAACAAGACAAAAACACCCAAGAAGTTTTTGCACAAGTCAAACAAATTTACAAAACACCACCAATTAAAGATTTTGGTGGTTTTAATTTTTCACAAATATTACCAGATCCATCAAAACCAAGCAAGAGGTCATTTATTGAAGATCTACTTTTCAACAAAGTGACACTTGCAGATGCTGGCTTCATCAAACAATATGGTGATTGCCTTGGTGATATTGCTGCTAGAGACCTCATTTGTGCACAAAAGTTTAACGGCCTTACTGTTTTGCCACCTTTGCTCACAGATGAAATGATTGCTCAATACACTTCTGCACTGTTAGCGGGTACAATCACTTCTGGTTGGACCTTTGGTGCAGGTGCTGCATTACAAATACCATTTGCTATGCAAATGGCTTATAGGTTTAATGGTATTGGAGTTACACAGAATGTTCTCTATGAGAACCAAAAATTGATTGCCAACCAATTTAATAGTGCTATTGGCAAAATTCAAGACTCACTTTCTTCCACAGCAAGTGCACTTGGAAAACTTCAAGATGTGGTCAACCAAAATGCACAAGCTTTAAACACGCTTGTTAAACAACTTAGCTCCAATTTTGGTGCAATTTCAAGTGTTTTAAATGATATCCTTTCACGTCTTGACAAAGTTGAGGCTGAAGTGCAAATTGATAGGTTGATCACAGGCAGACTTCAAAGTTTGCAGACATATGTGACTCAACAATTAATTAGAGCTGCAGAAATCAGAGCTTCTGCTAATCTTGCTGCTACTAAAATGTCAGAGTGTGTACTTGGACAATCAAAAAGAGTTGATTTTTGTGGAAAGGGCTATCATCTTATGTCCTTCCCTCAGTCAGCACCTCATGGTGTAGTCTTCTTGCATGTGACTTATGTCCCTGCACAAGAAAAGAACTTCACAACTGCTCCTGCCATTTGTCATGATGGAAAAGCACACTTTCCTCGTGAAGGTGTCTTTGTTTCAAATGGCACACACTGGTTTGTAACACAAAGGAATTTTTATGAACCACAAATCATTACTACAGACAACACATTTGTGTCTGGTAACTGTGATGTTGTAATAGGAATTGTCAACAACACAGTTTATGATCCTTTGCAACCTGAATTAGACTCATTCAAGGAGGAGTTAGATAAATATTTTAAGAATCATACATCACCAGATGTTGATTTAGGTGACATCTCTGGCATTAATGCTTCAGTTGTAAACATTCAAAAAGAAATTGACCGCCTCAATGAGGTTGCCAAGAATTTAAATGAATCTCTCATCGATCTCCAAGAACTTGGAAAGTATGAGCAGTATATAAAATGGCCATGGTACATTTGGCTAGGTTTTATAGCTGGCTTGATTGCCATAGTAATGGTGACAATTATGCTTTGCTGTATGACCAGTTGCTGTAGTTGTCTCAAGGGCTGTTGTTCTTGTGGATCCTGCTGCAAATTTGATGAAGACGACTCTGAGCCAGTGCTCAAAGGAGTCAAATTACATTACACATAA\n"
     ]
    }
   ],
   "source": [
    "#Convert sequence into a string to make comparisms and additionally to upperCase\n",
    "seq = str(initSeq.seq).upper()\n",
    "ORF_count = 0\n",
    "DNA_sequences = []\n",
    "\n",
    "for pos_start in range(0, len(seq)):\n",
    "    \n",
    "    #Get position of very first start codon\n",
    "    pos_start = seq.find(\"ATG\")\n",
    "    #print(\"pos_start \", pos_start)\n",
    "    \n",
    "    #No start codon? -> break\n",
    "    if pos_start < 0:\n",
    "        break\n",
    "    \n",
    "    \n",
    "    #Calculate new start position (after start codon)\n",
    "    new_seq = seq[pos_start+3:]\n",
    "    \n",
    "    #Split sequence into subsequences with length of 3\n",
    "    split_seq = [new_seq[i:i+3] for i in range(0, len(new_seq), 3)]\n",
    "    #print(split_seq)\n",
    "    \n",
    "    #Find very first stop codon and save whole sequence\n",
    "    sub_seq = \"ATG\"\n",
    "    for a in split_seq:\n",
    "        if a == 'TAA':\n",
    "            sub_seq += a\n",
    "            DNA_sequences.append(sub_seq)\n",
    "            ORF_count += 1\n",
    "            break\n",
    "        elif a == 'TAG':\n",
    "            sub_seq += a\n",
    "            DNA_sequences.append(sub_seq)\n",
    "            ORF_count += 1\n",
    "            break\n",
    "        elif a == 'TGA':\n",
    "            sub_seq += a\n",
    "            DNA_sequences.append(sub_seq)\n",
    "            ORF_count += 1\n",
    "            break\n",
    "        else:\n",
    "            sub_seq += a\n",
    "            \n",
    "    #Calculate positions of stop codons (.rfind() returns -1 if not successful)\n",
    "    pos_stop1 = sub_seq.rfind('TAA')\n",
    "    pos_stop2 = sub_seq.rfind('TAG')\n",
    "    pos_stop3 = sub_seq.rfind('TGA')\n",
    "    #print(\"stops: \", pos_stop1, pos_stop2, pos_stop3)\n",
    "    \n",
    "    #Highest position is relevant since stop codons are at the end\n",
    "    max_stop = max(pos_stop1, pos_stop2, pos_stop3)\n",
    "    #print(max_stop)\n",
    "    \n",
    "    #If there are no stop codons max=-1\n",
    "    if max_stop > -1:\n",
    "        #Calculate new position for the next iteration (after stop codon of last sequence)\n",
    "        newPosition = pos_start + max_stop + 3\n",
    "        seq = seq[newPosition: ]\n",
    "\n",
    "\n",
    "#Results        \n",
    "print(\"ORF counts: \", ORF_count)\n",
    "print(\"All DNA sequences:\")\n",
    "for x in DNA_sequences:\n",
    "    print(x)"
   ]
  },
  {
   "cell_type": "markdown",
   "id": "48541502",
   "metadata": {},
   "source": [
    "### Turn DNA into mRNA"
   ]
  },
  {
   "cell_type": "code",
   "execution_count": 16,
   "id": "51a31d4c",
   "metadata": {},
   "outputs": [
    {
     "name": "stdout",
     "output_type": "stream",
     "text": [
      "Resulting mRNA sequences: \n",
      "AUGAUAUGA\n",
      "AUGUUCUUGUUAACAACUAAACGAACAAUGUUUGUUUUUCUUGUUUUAUUGCCACUAGUCUCUAGUCAGUGUGUUAAUCUUACAACCAGAACUCAAUUACCCCCUGCAUACACUAAUUCUUUCACACGUGGUGUUUAUUACCCUGACAAAGUUUUCAGAUCCUCAGUUUUACAUUCAACUCAGGACUUGUUCUUACCUUUCUUUUCCAAUGUUACUUGGUUCCAUGCUAUACAUGUCUCUGGGACCAAUGGUACUAAGAGGUUUGAUAACCCUGUCCUACCAUUUAAUGAUGGUGUUUAUUUUGCUUCCACUGAGAAGUCUAACAUAAUAAGAGGCUGGAUUUUUGGUACUACUUUAGAUUCGAAGACCCAGUCCCUACUUAUUGUUAAUAACGCUACUAAUGUUGUUAUUAAAGUCUGUGAAUUUCAAUUUUGUAAUGAUCCAUUUUUGGGUGUUUAUUACCACAAAAACAACAAAAGUUGGAUGGAAAGUGAGUUCAGAGUUUAUUCUAGUGCGAAUAAUUGCACUUUUGAAUAUGUCUCUCAGCCUUUUCUUAUGGACCUUGAAGGAAAACAGGGUAAUUUCAAAAAUCUUAGGGAAUUUGUGUUUAAGAAUAUUGAUGGUUAUUUUAAAAUAUAUUCUAAGCACACGCCUAUUAAUUUAGUGCGUGAUCUCCCUCAGGGUUUUUCGGCUUUAGAACCAUUGGUAGAUUUGCCAAUAGGUAUUAACAUCACUAGGUUUCAAACUUUACUUGCUUUACAUAGAAGUUAUUUGACUCCUGGUGAUUCUUCUUCAGGUUGGACAGCUGGUGCUGCAGCUUAUUAUGUGGGUUAUCUUCAACCUAGGACUUUUCUAUUAAAAUAUAAUGAAAAUGGAACCAUUACAGAUGCUGUAGACUGUGCACUUGACCCUCUCUCAGAAACAAAGUGUACGUUGAAAUCCUUCACUGUAGAAAAAGGAAUCUAUCAAACUUCUAACUUUAGAGUCCAACCAACAGAAUCUAUUGUUAGAUUUCCUAAUAUUACAAACUUGUGCCCUUUUGGUGAAGUUUUUAACGCCACCAGAUUUGCAUCUGUUUAUGCUUGGAACAGGAAGAGAAUCAGCAACUGUGUUGCUGAUUAUUCUGUCCUAUAUAAUUCCGCAUCAUUUUCCACUUUUAAGUGUUAUGGAGUGUCUCCUACUAAAUUAAAUGAUCUCUGCUUUACUAAUGUCUAUGCAGAUUCAUUUGUAAUUAGAGGUGAUGAAGUCAGACAAAUCGCUCCAGGGCAAACUGGAAAGAUUGCUGAUUAUAAUUAUAAAUUACCAGAUGAUUUUACAGGCUGCGUUAUAGCUUGGAAUUCUAACAAUCUUGAUUCUAAGGUUGGUGGUAAUUAUAAUUACCUGUAUAGAUUGUUUAGGAAGUCUAAUCUCAAACCUUUUGAGAGAGAUAUUUCAACUGAAAUCUAUCAGGCCGGUAGCACACCUUGUAAUGGUGUUGAAGGUUUUAAUUGUUACUUUCCUUUACAAUCAUAUGGUUUCCAACCCACUAAUGGUGUUGGUUACCAACCAUACAGAGUAGUAGUACUUUCUUUUGAACUUCUACAUGCACCAGCAACUGUUUGUGGACCUAAAAAGUCUACUAAUUUGGUUAAAAACAAAUGUGUCAAUUUCAACUUCAAUGGUUUAACAGGCACAGGUGUUCUUACUGAGUCUAACAAAAAGUUUCUGCCUUUCCAACAAUUUGGCAGAGACAUUGCUGACACUACUGAUGCUGUCCGUGAUCCACAGACACUUGAGAUUCUUGACAUUACACCAUGUUCUUUUGGUGGUGUCAGUGUUAUAACACCAGGAACAAAUACUUCUAACCAGGUUGCUGUUCUUUAUCAGGAUGUUAACUGCACAGAAGUCCCUGUUGCUAUUCAUGCAGAUCAACUUACUCCUACUUGGCGUGUUUAUUCUACAGGUUCUAAUGUUUUUCAAACACGUGCAGGCUGUUUAAUAGGGGCUGAACAUGUCAACAACUCAUAUGAGUGUGACAUACCCAUUGGUGCAGGUAUAUGCGCUAGUUAUCAGACUCAGACUAAUUCUCCUCGGCGGGCACGUAGUGUAGCUAGUCAAUCCAUCAUUGCCUACACUAUGUCACUUGGUGCAGAAAAUUCAGUUGCUUACUCUAAUAACUCUAUUGCCAUACCCACAAAUUUUACUAUUAGUGUUACCACAGAAAUUCUACCAGUGUCUAUGACCAAGACAUCAGUAGAUUGUACAAUGUACAUUUGUGGUGAUUCAACUGAAUGCAGCAAUCUUUUGUUGCAAUAUGGCAGUUUUUGUACACAAUUAAACCGUGCUUUAACUGGAAUAGCUGUUGAACAAGACAAAAACACCCAAGAAGUUUUUGCACAAGUCAAACAAAUUUACAAAACACCACCAAUUAAAGAUUUUGGUGGUUUUAAUUUUUCACAAAUAUUACCAGAUCCAUCAAAACCAAGCAAGAGGUCAUUUAUUGAAGAUCUACUUUUCAACAAAGUGACACUUGCAGAUGCUGGCUUCAUCAAACAAUAUGGUGAUUGCCUUGGUGAUAUUGCUGCUAGAGACCUCAUUUGUGCACAAAAGUUUAACGGCCUUACUGUUUUGCCACCUUUGCUCACAGAUGAAAUGAUUGCUCAAUACACUUCUGCACUGUUAGCGGGUACAAUCACUUCUGGUUGGACCUUUGGUGCAGGUGCUGCAUUACAAAUACCAUUUGCUAUGCAAAUGGCUUAUAGGUUUAAUGGUAUUGGAGUUACACAGAAUGUUCUCUAUGAGAACCAAAAAUUGAUUGCCAACCAAUUUAAUAGUGCUAUUGGCAAAAUUCAAGACUCACUUUCUUCCACAGCAAGUGCACUUGGAAAACUUCAAGAUGUGGUCAACCAAAAUGCACAAGCUUUAAACACGCUUGUUAAACAACUUAGCUCCAAUUUUGGUGCAAUUUCAAGUGUUUUAAAUGAUAUCCUUUCACGUCUUGACAAAGUUGAGGCUGAAGUGCAAAUUGAUAGGUUGAUCACAGGCAGACUUCAAAGUUUGCAGACAUAUGUGACUCAACAAUUAAUUAGAGCUGCAGAAAUCAGAGCUUCUGCUAAUCUUGCUGCUACUAAAAUGUCAGAGUGUGUACUUGGACAAUCAAAAAGAGUUGAUUUUUGUGGAAAGGGCUAUCAUCUUAUGUCCUUCCCUCAGUCAGCACCUCAUGGUGUAGUCUUCUUGCAUGUGACUUAUGUCCCUGCACAAGAAAAGAACUUCACAACUGCUCCUGCCAUUUGUCAUGAUGGAAAAGCACACUUUCCUCGUGAAGGUGUCUUUGUUUCAAAUGGCACACACUGGUUUGUAACACAAAGGAAUUUUUAUGAACCACAAAUCAUUACUACAGACAACACAUUUGUGUCUGGUAACUGUGAUGUUGUAAUAGGAAUUGUCAACAACACAGUUUAUGAUCCUUUGCAACCUGAAUUAGACUCAUUCAAGGAGGAGUUAGAUAAAUAUUUUAAGAAUCAUACAUCACCAGAUGUUGAUUUAGGUGACAUCUCUGGCAUUAAUGCUUCAGUUGUAAACAUUCAAAAAGAAAUUGACCGCCUCAAUGAGGUUGCCAAGAAUUUAAAUGAAUCUCUCAUCGAUCUCCAAGAACUUGGAAAGUAUGAGCAGUAUAUAAAAUGGCCAUGGUACAUUUGGCUAGGUUUUAUAGCUGGCUUGAUUGCCAUAGUAAUGGUGACAAUUAUGCUUUGCUGUAUGACCAGUUGCUGUAGUUGUCUCAAGGGCUGUUGUUCUUGUGGAUCCUGCUGCAAAUUUGAUGAAGACGACUCUGAGCCAGUGCUCAAAGGAGUCAAAUUACAUUACACAUAA\n"
     ]
    }
   ],
   "source": [
    "#Generate complementary mRNA strings\n",
    "mRNA_sequences = []\n",
    "for x in DNA_sequences:\n",
    "    x = x.replace(\"T\", \"U\")\n",
    "    mRNA_sequences.append(x)\n",
    "    \n",
    "    \n",
    "#Results\n",
    "print(\"Resulting mRNA sequences: \")\n",
    "for m in mRNA_sequences:\n",
    "    print(m)"
   ]
  },
  {
   "cell_type": "markdown",
   "id": "9950a1f7",
   "metadata": {},
   "source": [
    "### Determine Proteins of mRNA sequences"
   ]
  },
  {
   "cell_type": "code",
   "execution_count": 17,
   "id": "f97e3893",
   "metadata": {},
   "outputs": [
    {
     "name": "stdout",
     "output_type": "stream",
     "text": [
      "Resulting proteins :\n",
      "M-I-Stop\n",
      "M-F-L-L-T-T-K-R-T-M-V-L-V-L-L-P-L-V-S-S-Q-C-V-N-L-T-T-R-T-Q-L-P-P-A-T-T-N-S-F-T-R-G-V-T-T-P-D-K-V-F-R-S-S-V-L-H-S-T-Q-D-L-F-L-P-F-S-N-V-T-W-F-H-A-I-H-V-S-T-N-G-T-K-R-D-N-P-V-L-P-N-D-G-V-T-A-S-T-E-K-S-N-I-I-R-G-W-I-G-T-T-L-D-S-K-T-Q-S-L-L-I-V-N-N-A-T-N-V-V-I-K-V-C-E-Q-C-N-D-P-L-G-V-T-T-H-K-N-N-K-S-W-M-E-S-E-F-R-V-T-S-S-A-N-N-C-T-E-T-V-S-Q-P-L-M-D-L-E-G-K-Q-G-N-F-K-N-L-R-E-V-K-N-I-D-G-T-K-I-T-S-K-H-T-P-I-N-L-V-R-D-L-P-Q-G-S-A-L-E-P-L-V-D-L-P-I-G-I-N-I-T-R-Q-T-L-L-A-L-H-R-S-T-L-T-P-G-D-S-S-S-G-W-T-A-G-A-A-A-T-T-V-G-T-L-Q-P-R-T-L-L-K-T-N-E-N-G-T-I-T-D-A-V-D-C-A-L-D-P-L-S-E-T-K-C-T-L-K-S-F-T-V-E-K-G-I-T-Q-T-S-N-R-V-Q-P-T-E-S-I-V-R-P-N-I-T-N-L-C-P-G-E-V-N-A-T-R-A-S-V-T-A-W-N-R-K-R-I-S-N-C-V-A-D-T-S-V-L-T-N-S-A-S-S-T-K-C-T-G-V-S-P-T-K-L-N-D-L-C-T-N-V-T-A-D-S-V-I-R-G-D-E-V-R-Q-I-A-P-Q-T-G-K-I-A-D-T-N-T-K-L-P-D-D-T-G-C-V-I-A-W-N-S-N-N-L-D-S-K-V-G-G-N-T-N-T-L-T-R-L-R-K-S-N-L-K-P-E-R-D-I-S-T-E-I-T-Q-A-G-S-T-P-C-N-G-V-E-G-N-C-T-P-L-Q-S-T-G-F-Q-P-T-N-G-V-G-T-Q-P-T-R-V-V-V-L-S-E-L-L-H-A-P-A-T-V-C-G-P-K-K-S-T-N-L-V-K-N-K-C-V-N-F-N-F-N-G-L-T-G-T-G-V-L-T-E-S-N-K-K-L-P-F-Q-Q-G-R-D-I-A-D-T-T-D-A-V-R-D-P-Q-T-L-E-I-L-D-I-T-P-C-S-G-G-V-S-V-I-T-P-G-T-N-T-S-N-Q-V-A-V-L-T-Q-D-V-N-C-T-E-V-P-V-A-I-H-A-D-Q-L-T-P-T-W-R-V-T-S-T-G-S-N-V-Q-T-R-A-G-C-L-I-A-E-H-V-N-N-S-T-E-C-D-I-P-I-G-A-G-I-C-A-S-T-Q-T-Q-T-N-S-P-R-R-A-R-S-V-A-S-Q-S-I-I-A-T-T-M-S-L-G-A-E-N-S-V-A-T-S-N-N-S-I-A-I-P-T-N-T-I-S-V-T-T-E-I-L-P-V-S-M-T-K-T-S-V-D-C-T-M-T-I-C-G-D-S-T-E-C-S-N-L-L-L-Q-T-G-S-C-T-Q-L-N-R-A-L-T-G-I-A-V-E-Q-D-K-N-T-Q-E-V-A-Q-V-K-Q-I-T-K-T-P-P-I-K-D-G-G-N-S-Q-I-L-P-D-P-S-K-P-S-K-R-S-I-E-D-L-L-F-N-K-V-T-L-A-D-A-G-F-I-K-Q-T-G-D-C-L-G-D-I-A-A-R-D-L-I-C-A-Q-K-N-G-L-T-V-L-P-P-L-L-T-D-E-M-I-A-Q-T-T-S-A-L-L-A-G-T-I-T-S-G-W-T-G-A-G-A-A-L-Q-I-P-A-M-Q-M-A-T-R-N-G-I-G-V-T-Q-N-V-L-T-E-N-Q-K-L-I-A-N-Q-N-S-A-I-G-K-I-Q-D-S-L-S-S-T-A-S-A-L-G-K-L-Q-D-V-V-N-Q-N-A-Q-A-L-N-T-L-V-K-Q-L-S-S-N-G-A-I-S-S-V-L-N-D-I-L-S-R-L-D-K-V-E-A-E-V-Q-I-D-R-L-I-T-G-R-L-Q-S-L-Q-T-T-V-T-Q-Q-L-I-R-A-A-E-I-R-A-S-A-N-L-A-A-T-K-M-S-E-C-V-L-G-Q-S-K-R-V-D-C-G-K-G-T-H-L-M-S-F-P-Q-S-A-P-H-G-V-V-F-L-H-V-T-T-V-P-A-Q-E-K-N-F-T-T-A-P-A-I-C-H-D-G-K-A-H-P-R-E-G-V-V-S-N-G-T-H-W-V-T-Q-R-N-T-E-P-Q-I-I-T-T-D-N-T-V-S-G-N-C-D-V-V-I-G-I-V-N-N-T-V-T-D-P-L-Q-P-E-L-D-S-F-K-E-E-L-D-K-T-K-N-H-T-S-P-D-V-D-L-G-D-I-S-G-I-N-A-S-V-V-N-I-Q-K-E-I-D-R-L-N-E-V-A-K-N-L-N-E-S-L-I-D-L-Q-E-L-G-K-T-E-Q-T-I-K-W-P-W-T-I-W-L-G-I-A-G-L-I-A-I-V-M-V-T-I-M-L-C-C-M-T-S-C-C-S-C-L-K-G-C-C-S-C-G-S-C-C-K-D-E-D-D-S-E-P-V-L-K-G-V-K-L-H-T-T-Stop\n"
     ]
    }
   ],
   "source": [
    "import pandas as pd\n",
    "\n",
    "#Read and save table into a variable\n",
    "codons = pd.read_csv('Files Exercise 2/DSiBI-exercises-Day2_codon.tsv', sep='\\t')\n",
    "#print(codons.keys())\n",
    "#print(codons)\n",
    "\n",
    "\n",
    "#Turn each mRNA sequence in triplets and encode them into amino acids \n",
    " #Obtain sequence of amino acids/proteins as result\n",
    "proteins = []\n",
    "for m in mRNA_sequences:\n",
    "    split_mRNA = [m[i:i+3] for i in range(0, len(m), 3)]\n",
    "    amino_seq = \"\"\n",
    "    for s in split_mRNA:\n",
    "        for a in range(0,len(codons.UUU)-1):\n",
    "            if s == codons.UUU[a]:\n",
    "                amino_seq += codons.F[a]\n",
    "                amino_seq += \"-\"\n",
    "    proteins.append(amino_seq[:-1])\n",
    "    \n",
    "#Results\n",
    "print(\"Resulting proteins :\")\n",
    "for p in proteins:\n",
    "    print(p)"
   ]
  },
  {
   "cell_type": "markdown",
   "id": "eb1aadf0",
   "metadata": {},
   "source": [
    "### Write output into a file"
   ]
  },
  {
   "cell_type": "code",
   "execution_count": 18,
   "id": "4baa4645",
   "metadata": {},
   "outputs": [],
   "source": [
    "with open('My Output Files/ProteinSequence.txt', 'w') as f:\n",
    "    for p in proteins:\n",
    "        p += \"\\n\"\n",
    "        f.write(p)"
   ]
  }
 ],
 "metadata": {
  "kernelspec": {
   "display_name": "Python 3 (ipykernel)",
   "language": "python",
   "name": "python3"
  },
  "language_info": {
   "codemirror_mode": {
    "name": "ipython",
    "version": 3
   },
   "file_extension": ".py",
   "mimetype": "text/x-python",
   "name": "python",
   "nbconvert_exporter": "python",
   "pygments_lexer": "ipython3",
   "version": "3.9.12"
  }
 },
 "nbformat": 4,
 "nbformat_minor": 5
}
